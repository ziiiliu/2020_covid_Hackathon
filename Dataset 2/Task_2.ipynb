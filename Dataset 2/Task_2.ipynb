{
 "cells": [
  {
   "cell_type": "markdown",
   "metadata": {},
   "source": [
    "# DATASET 2 (Series 1 - 5 comparison)\n",
    "## How it works\n",
    "1) Data from 2nd dataset is included from csv file, categorise their column <br>\n",
    "2) to compare 2 different sets of data, we first check using Chi-square test to see if difference between datas from a similar group are significant or not. We will only proceed if the differences are insignificant. <br>\n",
    "3) We then take the average of the data in a set, and perform another Chi-square test onto the 2 dataset average we would like to know. If it's difference is significant we then check whether it has an increase or decrease in the number of genes and categorise them accordingly. <br>\n",
    "4) The data obtained is then compiled into a csv file, sorted by the Chi-square values to indicated the magnitude it has changed (larger Chi-square value indicates a greater change). <br>\n",
    "5) Graphs are plotted for the top 10 genes which has changed\n"
   ]
  },
  {
   "cell_type": "code",
   "execution_count": 1,
   "metadata": {},
   "outputs": [],
   "source": [
    "#Import modules\n",
    "import pandas as pd\n",
    "import csv\n",
    "import matplotlib.pyplot as plt\n",
    "import numpy as np\n",
    "from matplotlib.backends.backend_pdf import PdfPages\n",
    "from scipy.stats import chisquare\n",
    "\n",
    "#Import files (Change files if needed)\n",
    "in_1 = \"/Users/aldricgoh/COVID_Hackathon/Datasets/lung_cellline_infection/normalized_human_cellline_data.csv\" #Normalised human cellline data\n",
    "in_2 = \"/Users/aldricgoh/COVID_Hackathon/Datasets/lung_cellline_infection/human_cellline_metadata.csv\" #Metadata\n",
    "\n",
    "#Read files\n",
    "df_1 = pd.read_csv(in_1, usecols = ['gene_symbol', 'Series1_NHBE_Mock_1', 'Series1_NHBE_Mock_2', 'Series1_NHBE_Mock_3', 'Series1_NHBE_SARS.CoV.2_1', 'Series1_NHBE_SARS.CoV.2_2', 'Series1_NHBE_SARS.CoV.2_3', 'Series2_A549_Mock_1', 'Series2_A549_Mock_2', 'Series2_A549_Mock_3', 'Series2_A549_SARS.CoV.2_1', 'Series2_A549_SARS.CoV.2_2', 'Series2_A549_SARS.CoV.2_3', 'Series3_A549_Mock_1', 'Series3_A549_Mock_2', 'Series3_A549_RSV_1', 'Series3_A549_RSV_2', 'Series4_A549_Mock_1', 'Series4_A549_Mock_2', 'Series4_A549_IAV_1', 'Series4_A549_IAV_2', 'Series5_A549_Mock_1', 'Series5_A549_Mock_2', 'Series5_A549_Mock_3', 'Series5_A549_SARS.CoV.2_1', 'Series5_A549_SARS.CoV.2_2', 'Series5_A549_SARS.CoV.2_3', 'Series6_A549.ACE2_Mock_1', 'Series6_A549.ACE2_Mock_2', 'Series6_A549.ACE2_Mock_3', 'Series6_A549.ACE2_SARS.CoV.2_1', 'Series6_A549.ACE2_SARS.CoV.2_2', 'Series6_A549.ACE2_SARS.CoV.2_3', 'Series7_Calu3_Mock_1', 'Series7_Calu3_Mock_2', 'Series7_Calu3_Mock_3', 'Series7_Calu3_SARS.CoV.2_1', 'Series7_Calu3_SARS.CoV.2_2', 'Series7_Calu3_SARS.CoV.2_3', 'Series8_A549_Mock_1', 'Series8_A549_Mock_2', 'Series8_A549_Mock_3', 'Series8_A549_RSV_1', 'Series8_A549_RSV_2', 'Series8_A549_RSV_3', 'Series8_A549_HPIV3_3', 'Series8_A549_HPIV3_2', 'Series8_A549_HPIV3_1', 'Series9_NHBE_Mock_1', 'Series9_NHBE_Mock_2', 'Series9_NHBE_Mock_3', 'Series9_NHBE_Mock_4', 'Series9_NHBE_IAV_1', 'Series9_NHBE_IAV_2', 'Series9_NHBE_IAV_3', 'Series9_NHBE_IAV_4', 'Series9_NHBE_IAVdNS1_1', 'Series9_NHBE_IAVdNS1_2', 'Series9_NHBE_IAVdNS1_3', 'Series9_NHBE_IAVdNS1_4', 'Series9_NHBE_IFNB_4h_1', 'Series9_NHBE_IFNB_4h_2', 'Series9_NHBE_IFNB_6h_1', 'Series9_NHBE_IFNB_6h_2', 'Series9_NHBE_IFNB_12h_1', 'Series9_NHBE_IFNB_12h_2', 'Series16_A549.ACE2_Mock_1', 'Series16_A549.ACE2_Mock_2', 'Series16_A549.ACE2_Mock_3', 'Series16_A549.ACE2_SARS.CoV.2_1', 'Series16_A549.ACE2_SARS.CoV.2_2', 'Series16_A549.ACE2_SARS.CoV.2_3', 'Series16_A549.ACE2_SARS.CoV.2_Rux_1', 'Series16_A549.ACE2_SARS.CoV.2_Rux_2', 'Series16_A549.ACE2_SARS.CoV.2_Rux_3'])\n",
    "df_2 = pd.read_csv(in_2, usecols = ['title', 'geo_accession', 'organism', 'description', 'cell_line', 'cell_strain', 'treatment', 'time_after_treatment_hrs',\t'name_short', 'replicate', 'cell_type'])"
   ]
  },
  {
   "cell_type": "code",
   "execution_count": 2,
   "metadata": {},
   "outputs": [],
   "source": [
    "#Insert values into lists\n",
    "genes = df_1['gene_symbol'].values\n",
    "\n",
    "series1_mock1 = df_1['Series1_NHBE_Mock_1'].values\n",
    "series1_mock2 = df_1['Series1_NHBE_Mock_2'].values\n",
    "series1_mock3 = df_1['Series1_NHBE_Mock_3'].values\n",
    "series1_1 = df_1['Series1_NHBE_SARS.CoV.2_1'].values\n",
    "series1_2 = df_1['Series1_NHBE_SARS.CoV.2_2'].values\n",
    "series1_3 = df_1['Series1_NHBE_SARS.CoV.2_3'].values\n",
    "\n",
    "series2_mock1 = df_1['Series2_A549_Mock_1'].values\n",
    "series2_mock2 = df_1['Series2_A549_Mock_2'].values\n",
    "series2_mock3 = df_1['Series2_A549_Mock_3'].values\n",
    "series2_1 = df_1['Series2_A549_SARS.CoV.2_1'].values\n",
    "series2_2 = df_1['Series2_A549_SARS.CoV.2_2'].values\n",
    "series2_3 = df_1['Series2_A549_SARS.CoV.2_3'].values"
   ]
  },
  {
   "cell_type": "code",
   "execution_count": 18,
   "metadata": {},
   "outputs": [],
   "source": [
    "#Set up empty lists\n",
    "sig_diff_down_1 = []\n",
    "sig_diff_up_1 = []\n",
    "sig_diff_down_2 = []\n",
    "sig_diff_up_2 = []"
   ]
  },
  {
   "cell_type": "code",
   "execution_count": 19,
   "metadata": {},
   "outputs": [],
   "source": [
    "for i in range(len(genes)):\n",
    "        #Check is there is significant difference\n",
    "        #Only proceed when no significant differences\n",
    "        #May encounter division by 0, but can be ignored\n",
    "        #At a 0.1% level\n",
    "    if chisquare([series1_mock1[i], series1_mock2[i], series1_mock3[i]])[0] < 6.635 and chisquare([series1_1[i], series1_2[i], series1_3[i]])[0] < 6.635:\n",
    "        a = (series1_mock1[i] + series1_mock2[i] + series1_mock3[i])/3\n",
    "        b = (series1_1[i] + series1_2[i] + series1_3[i])/3\n",
    "        chi = chisquare([a, b])[0] #Degree of freedom of 1, and obtain value os chisquare\n",
    "\n",
    "            #If difference is significant, only insert into list for monitoring\n",
    "            #At a 0.5% level\n",
    "        if chi > 7.879:\n",
    "            if a < b:\n",
    "                sig_diff_up_1.append([genes[i], series1_mock1[i], series1_mock2[i], series1_mock3[i], series1_1[i], series1_2[i], series1_3[i], chi])\n",
    "            else:\n",
    "                sig_diff_down_1.append([genes[i], series1_mock1[i], series1_mock2[i], series1_mock3[i], series1_1[i], series1_2[i], series1_3[i], chi])\n",
    "        \n",
    "    else:\n",
    "        pass"
   ]
  },
  {
   "cell_type": "code",
   "execution_count": 17,
   "metadata": {
    "tags": []
   },
   "outputs": [
    {
     "output_type": "stream",
     "name": "stdout",
     "text": "117\n130\n247\n"
    }
   ],
   "source": [
    "#Check length of lists\n",
    "print(len(sig_diff_down_1))\n",
    "print(len(sig_diff_up_1))\n",
    "print(len(sig_diff_down_1) + len(sig_diff_up_1))"
   ]
  },
  {
   "cell_type": "code",
   "execution_count": 6,
   "metadata": {},
   "outputs": [],
   "source": [
    "output_filename_1 = \"/Users/aldricgoh/Series1_analysis_upreg.csv\"\n",
    "output_filename_2 = \"/Users/aldricgoh/Series1_analysis_downreg.csv\"\n",
    "\n",
    "#Function to write csv file\n",
    "def write_csv(filename, header, data):\n",
    "    with open(filename, 'w') as f:\n",
    "        writer = csv.writer(f)\n",
    "        writer.writerow(header)\n",
    "        writer.writerows(data)\n",
    "\n",
    "def take_chi(elem):\n",
    "    return elem[7]\n",
    "sig_diff_up_1 = sorted(sig_diff_up_1, key=take_chi,reverse=True)\n",
    "sig_diff_down_1 = sorted(sig_diff_down_1, key=take_chi,reverse=True)\n",
    "\n",
    "write_csv(filename=output_filename_1, header=['gene_symbol', 'Series1_NHBE_Mock_1', 'Series1_NHBE_Mock_2', 'Series1_NHBE_Mock_3', 'Series1_NHBE_SARS.CoV.2_1', 'Series1_NHBE_SARS.CoV.2_2', 'Series1_NHBE_SARS.CoV.2_3', 'Chisquare_Value'], data=sig_diff_up_1)\n",
    "write_csv(filename=output_filename_2, header=['gene_symbol', 'Series1_NHBE_Mock_1', 'Series1_NHBE_Mock_2', 'Series1_NHBE_Mock_3', 'Series1_NHBE_SARS.CoV.2_1', 'Series1_NHBE_SARS.CoV.2_2', 'Series1_NHBE_SARS.CoV.2_3', 'Chisquare_Value'], data=sig_diff_down_1)"
   ]
  },
  {
   "cell_type": "code",
   "execution_count": 20,
   "metadata": {},
   "outputs": [],
   "source": [
    "for i in range(len(genes)):\n",
    "        #Check is there is significant difference\n",
    "        #Only proceed when no significant differences\n",
    "        #May encounter division by 0, but can be ignored\n",
    "        #At a 0.1% level\n",
    "    if chisquare([series2_mock1[i], series2_mock2[i], series2_mock3[i]])[0] < 6.635 and chisquare([series2_1[i], series2_2[i], series2_3[i]])[0] < 6.635:\n",
    "        a = (series2_mock1[i] + series2_mock2[i] + series2_mock3[i])/3\n",
    "        b = (series2_1[i] + series2_2[i] + series2_3[i])/3\n",
    "        chi = chisquare([a, b])[0] #Degree of freedom of 1, and obtain value os chisquare\n",
    "\n",
    "            #If difference is significant, only insert into list for monitoring\n",
    "            #At a 0.5% level\n",
    "        if chi > 7.879:\n",
    "            if a < b:\n",
    "                sig_diff_up_2.append([genes[i], a, b, chi])\n",
    "            else:\n",
    "                sig_diff_down_2.append([genes[i], a, b, chi])\n",
    "        \n",
    "    else:\n",
    "        pass"
   ]
  },
  {
   "cell_type": "code",
   "execution_count": 21,
   "metadata": {
    "tags": []
   },
   "outputs": [
    {
     "output_type": "stream",
     "name": "stdout",
     "text": "75\n95\n170\n"
    }
   ],
   "source": [
    "#Check length of lists\n",
    "print(len(sig_diff_down_2))\n",
    "print(len(sig_diff_up_2))\n",
    "print(len(sig_diff_down_2) + len(sig_diff_up_2))"
   ]
  },
  {
   "cell_type": "code",
   "execution_count": 22,
   "metadata": {},
   "outputs": [],
   "source": [
    "output_filename_3 = \"/Users/aldricgoh/COVID HACK/Series2_analysis_upreg.csv\"\n",
    "output_filename_4 = \"/Users/aldricgoh/COVID HACK/Series2_analysis_downreg.csv\"\n",
    "\n",
    "def take_chi(elem):\n",
    "    return elem[3]\n",
    "\n",
    "sig_diff_up_2 = sorted(sig_diff_up_2, key=take_chi,reverse=True)\n",
    "sig_diff_down_2 = sorted(sig_diff_down_2, key=take_chi,reverse=True)\n",
    "\n",
    "write_csv(filename=output_filename_3, header=['gene_symbol', 'Series2_A549_Mock_average', 'Series2_A549_SARS.CoV.2_average', 'Chisquare Values'], data=sig_diff_up_2)\n",
    "write_csv(filename=output_filename_4, header=['gene_symbol', 'Series2_A549_Mock_average', 'Series2_A549_SARS.CoV.2_average', 'Chisquare Values'], data=sig_diff_down_2)"
   ]
  },
  {
   "cell_type": "code",
   "execution_count": 23,
   "metadata": {},
   "outputs": [],
   "source": [
    "#Make new lists\n",
    "sig_diff_1_2_mock_A549_up = [] \n",
    "sig_diff_1_2_mock_A549_down = [] "
   ]
  },
  {
   "cell_type": "code",
   "execution_count": null,
   "metadata": {},
   "outputs": [],
   "source": [
    "for i in range(len(genes)):\n",
    "        #Check is there is significant difference \n",
    "        #Only proceed when no significant differences\n",
    "        #May encounter division by 0, but can be ignored\n",
    "        #At a 0.1% level\n",
    "    if chisquare([series2_mock1[i], series2_mock2[i], series2_mock3[i]])[0] < 6.635 and chisquare([series1_mock1[i], series1_mock2[i], series1_mock3[i]])[0] < 6.635:\n",
    "        a = (series2_mock1[i] + series2_mock2[i] + series2_mock3[i])/3\n",
    "        b = (series1_mock1[i] + series1_mock2[i] + series1_mock3[i])/3\n",
    "        chi = chisquare([a, b])[0] #Degree of freedom of 1, and obtain value os chisquare\n",
    "\n",
    "            #If difference is significant, only insert into list for monitoring\n",
    "            #At a 0.5% level\n",
    "        if chi > 7.879:\n",
    "            if a > b:\n",
    "                sig_diff_1_2_mock_A549_up.append([genes[i], a, b, chi])\n",
    "            else:\n",
    "                sig_diff_1_2_mock_A549_down.append([genes[i], series1_mock1[i], series1_mock2[i], series1_mock3[i], series2_mock1[i], series2_mock2[i], series2_mock3[i], chi])\n",
    "        \n",
    "    else:\n",
    "        pass"
   ]
  },
  {
   "cell_type": "code",
   "execution_count": null,
   "metadata": {
    "tags": []
   },
   "outputs": [],
   "source": [
    "#Check length of lists\n",
    "print(len(sig_diff_1_2_mock_A549_up))\n",
    "print(len(sig_diff_1_2_mock_A549_down))\n",
    "print(len(sig_diff_1_2_mock_A549_up) + len(sig_diff_1_2_mock_A549_down))"
   ]
  },
  {
   "cell_type": "code",
   "execution_count": null,
   "metadata": {},
   "outputs": [],
   "source": [
    "output_filename_5 = \"/Users/aldricgoh/COVID HACK/Series1v2_analysis_upreg.csv\"\n",
    "output_filename_6 = \"/Users/aldricgoh/COVID HACK/Series1v2_analysis_downreg.csv\"\n",
    "\n",
    "sig_diff_1_2_mock_A549_up = sorted(sig_diff_1_2_mock_A549_up, key=take_chi,reverse=True)\n",
    "sig_diff_1_2_mock_A549_down = sorted(sig_diff_1_2_mock_A549_down, key=take_chi,reverse=True)\n",
    "\n",
    "write_csv(filename=output_filename_5, header=['gene_symbol', 'Series1_NHBE_Mock_1', 'Series1_NHBE_Mock_2', 'Series1_NHBE_Mock_3', 'Series2_A549_Mock_1', 'Series2_A549_Mock_2', 'Series2_A549_Mock_3', 'Chisquare Values'], data=sig_diff_1_2_mock_A549_up)\n",
    "write_csv(filename=output_filename_6, header=['gene_symbol', 'Series1_NHBE_Mock_1', 'Series1_NHBE_Mock_2', 'Series1_NHBE_Mock_3', 'Series2_A549_Mock_1', 'Series2_A549_Mock_2', 'Series2_A549_Mock_3', 'Chisquare Values'], data=sig_diff_1_2_mock_A549_down)"
   ]
  },
  {
   "cell_type": "code",
   "execution_count": 24,
   "metadata": {},
   "outputs": [],
   "source": [
    "#Make list of series 5\n",
    "series5_mock1 = df_1['Series5_A549_Mock_1'].values\n",
    "series5_mock2 = df_1['Series5_A549_Mock_2'].values\n",
    "series5_mock3 = df_1['Series5_A549_Mock_3'].values\n",
    "series5_1 = df_1['Series5_A549_SARS.CoV.2_1'].values\n",
    "series5_2 = df_1['Series5_A549_SARS.CoV.2_2'].values\n",
    "series5_3 = df_1['Series5_A549_SARS.CoV.2_3'].values"
   ]
  },
  {
   "cell_type": "code",
   "execution_count": 25,
   "metadata": {},
   "outputs": [],
   "source": [
    "#Make new lists\n",
    "sig_diff_2_5_mock_A549_up = [] \n",
    "sig_diff_2_5_mock_A549_down = [] "
   ]
  },
  {
   "cell_type": "code",
   "execution_count": 26,
   "metadata": {},
   "outputs": [],
   "source": [
    "for i in range(len(genes)):\n",
    "        #Check is there is significant difference\n",
    "        #Only proceed when no significant differences\n",
    "        #May encounter division by 0, but can be ignored\n",
    "        #At a 0.1% level\n",
    "    if chisquare([series2_1[i], series2_2[i], series2_3[i]])[0] < 6.635 and chisquare([series5_1[i], series5_2[i], series5_3[i]])[0] < 6.635:\n",
    "        a = (series2_1[i] + series2_2[i] + series2_3[i])/3\n",
    "        b = (series5_1[i] + series5_2[i] + series5_3[i])/3\n",
    "        chi = chisquare([a, b])[0] #Degree of freedom of 1, and obtain value os chisquare\n",
    "\n",
    "            #If difference is significant, only insert into list for monitoring\n",
    "            #At a 0.5% level\n",
    "        if chi > 7.879:\n",
    "            if a > b:\n",
    "                sig_diff_2_5_mock_A549_down.append([genes[i], a, b, chi])\n",
    "            else:\n",
    "                sig_diff_2_5_mock_A549_up.append([genes[i], a, b, chi])\n",
    "        \n",
    "    else:\n",
    "        pass"
   ]
  },
  {
   "cell_type": "code",
   "execution_count": 27,
   "metadata": {
    "tags": []
   },
   "outputs": [
    {
     "output_type": "stream",
     "name": "stdout",
     "text": "1165\n1134\n2299\n"
    }
   ],
   "source": [
    "#Check length of lists\n",
    "print(len(sig_diff_2_5_mock_A549_up))\n",
    "print(len(sig_diff_2_5_mock_A549_down))\n",
    "print(len(sig_diff_2_5_mock_A549_up) + len(sig_diff_2_5_mock_A549_down))"
   ]
  },
  {
   "cell_type": "code",
   "execution_count": 28,
   "metadata": {},
   "outputs": [],
   "source": [
    "output_filename_7 = \"/Users/aldricgoh/COVID HACK/Series2v5_infected_analysis_upreg.csv\"\n",
    "output_filename_8 = \"/Users/aldricgoh/COVID HACK/Series2v5_infected_analysis_downreg.csv\"\n",
    "\n",
    "sig_diff_2_5_mock_A549_up = sorted(sig_diff_2_5_mock_A549_up, key=take_chi,reverse=True)\n",
    "sig_diff_2_5_mock_A549_down = sorted(sig_diff_2_5_mock_A549_down, key=take_chi,reverse=True)\n",
    "\n",
    "write_csv(filename=output_filename_7, header=['gene_symbol', 'Series2_A549_SARS.CoV.2_average', 'Series5_A549_SARS.CoV.2_average', 'Chisquare Values'], data=sig_diff_2_5_mock_A549_up)\n",
    "write_csv(filename=output_filename_8, header=['gene_symbol', 'Series2_A549_SARS.CoV.2_average', 'Series5_A549_SARS.CoV.2_average', 'Chisquare Values'], data=sig_diff_2_5_mock_A549_down)"
   ]
  },
  {
   "cell_type": "code",
   "execution_count": 29,
   "metadata": {},
   "outputs": [],
   "source": [
    "series3_1 = df_1['Series3_A549_RSV_1'].values\n",
    "series3_2 = df_1['Series3_A549_RSV_2'].values"
   ]
  },
  {
   "cell_type": "code",
   "execution_count": 30,
   "metadata": {},
   "outputs": [],
   "source": [
    "upreg2_3 = []\n",
    "downreg2_3 = []"
   ]
  },
  {
   "cell_type": "code",
   "execution_count": 31,
   "metadata": {},
   "outputs": [],
   "source": [
    "for i in range(len(genes)):\n",
    "        #Check is there is significant difference\n",
    "        #Only proceed when no significant differences\n",
    "        #May encounter division by 0, but can be ignored\n",
    "        #At a 0.1% level\n",
    "    if chisquare([series2_1[i], series2_2[i], series2_3[i]])[0] < 6.635 and chisquare([series3_1[i], series3_2[i]])[0] < 6.635:\n",
    "        a = (series2_1[i] + series2_2[i] + series2_3[i])/3\n",
    "        b = (series3_1[i] + series3_2[i])/2\n",
    "        chi = chisquare([a, b])[0] #Degree of freedom of 1, and obtain value os chisquare\n",
    "\n",
    "            #If difference is significant, only insert into list for monitoring\n",
    "            #At a 0.5% level\n",
    "        if chi > 7.879:\n",
    "            if a < b:\n",
    "                upreg2_3.append([genes[i], a, b, chi])\n",
    "            else:\n",
    "                downreg2_3.append([genes[i], a, b, chi])\n",
    "        \n",
    "    else:\n",
    "        pass"
   ]
  },
  {
   "cell_type": "code",
   "execution_count": 32,
   "metadata": {
    "tags": []
   },
   "outputs": [
    {
     "output_type": "stream",
     "name": "stdout",
     "text": "1815\n1789\n3604\n"
    }
   ],
   "source": [
    "#Check length of lists\n",
    "print(len(upreg2_3))\n",
    "print(len(downreg2_3))\n",
    "print(len(upreg2_3) + len(downreg2_3))"
   ]
  },
  {
   "cell_type": "code",
   "execution_count": 33,
   "metadata": {},
   "outputs": [],
   "source": [
    "output_filename_9 = \"/Users/aldricgoh/COVID HACK/Series2v3_infected_analysis_3 more than 2.csv\"\n",
    "output_filename_10 = \"/Users/aldricgoh/COVID HACK/Series2v3_infected_analysis_3 less than 2.csv\"\n",
    "\n",
    "upreg2_3 = sorted(upreg2_3, key=take_chi,reverse=True)\n",
    "downreg2_3 = sorted(downreg2_3, key=take_chi,reverse=True)\n",
    "\n",
    "write_csv(filename=output_filename_9, header=['gene_symbol', 'Series2_A549_SARS.CoV.2_average', 'Series3_A549_RSV_average', 'Chisquare Values'], data=upreg2_3)\n",
    "write_csv(filename=output_filename_10, header=['gene_symbol', 'Series2_A549_SARS.CoV.2_average', 'Series3_A549_RSV_average', 'Chisquare Values'], data=downreg2_3)"
   ]
  },
  {
   "cell_type": "code",
   "execution_count": 34,
   "metadata": {
    "tags": []
   },
   "outputs": [
    {
     "output_type": "stream",
     "name": "stdout",
     "text": "637\n909\n1546\n"
    }
   ],
   "source": [
    "series4_1 = df_1['Series4_A549_IAV_1'].values\n",
    "series4_2 = df_1['Series4_A549_IAV_2'].values\n",
    "\n",
    "upreg2_4 = []\n",
    "downreg2_4 = []\n",
    "\n",
    "for i in range(len(genes)):\n",
    "        #Check is there is significant difference\n",
    "        #Only proceed when no significant differences\n",
    "        #May encounter division by 0, but can be ignored\n",
    "        #At a 0.1% level\n",
    "    if chisquare([series2_1[i], series2_2[i], series2_3[i]])[0] < 6.635 and chisquare([series4_1[i], series4_2[i]])[0] < 6.635:\n",
    "        a = (series2_1[i] + series2_2[i] + series2_3[i])/3\n",
    "        b = (series4_1[i] + series4_2[i])/2\n",
    "        chi = chisquare([a, b])[0] #Degree of freedom of 1, and obtain value os chisquare\n",
    "\n",
    "            #If difference is significant, only insert into list for monitoring\n",
    "            #At a 0.5% level\n",
    "        if chi > 7.879:\n",
    "            if a < b:\n",
    "                upreg2_4.append([genes[i], a, b, chi])\n",
    "            else:\n",
    "                downreg2_4.append([genes[i], a, b, chi])\n",
    "        \n",
    "    else:\n",
    "        pass\n",
    "\n",
    "#Check length of lists\n",
    "print(len(upreg2_4))\n",
    "print(len(downreg2_4))\n",
    "print(len(upreg2_4) + len(downreg2_4))\n",
    "\n",
    "output_filename_11 = \"/Users/aldricgoh/COVID HACK/Series2v4_infected_analysis_4 more than 2.csv\"\n",
    "output_filename_12 = \"/Users/aldricgoh/COVID HACK/Series2v4_infected_analysis_4 less than 2.csv\"\n",
    "\n",
    "upreg2_4 = sorted(upreg2_4, key=take_chi,reverse=True)\n",
    "downreg2_4 = sorted(downreg2_4, key=take_chi,reverse=True)\n",
    "\n",
    "write_csv(filename=output_filename_11, header=['gene_symbol', 'Series2_A549_SARS.CoV.2_average', 'Series4_A549_IAV_average', 'Chisquare Values'], data=upreg2_4)\n",
    "write_csv(filename=output_filename_12, header=['gene_symbol', 'Series2_A549_SARS.CoV.2_average', 'Series4_A549_IAV_average', 'Chisquare Values'], data=downreg2_4)"
   ]
  },
  {
   "cell_type": "code",
   "execution_count": 35,
   "metadata": {
    "tags": []
   },
   "outputs": [
    {
     "output_type": "stream",
     "name": "stdout",
     "text": "1883\n854\n2737\n"
    }
   ],
   "source": [
    "upreg3_4 = []\n",
    "downreg3_4 = []\n",
    "\n",
    "for i in range(len(genes)):\n",
    "        #Check is there is significant difference\n",
    "        #Only proceed when no significant differences\n",
    "        #May encounter division by 0, but can be ignored\n",
    "        #At a 0.1% level\n",
    "    if chisquare([series3_1[i], series3_2[i]])[0] < 6.635 and chisquare([series4_1[i], series4_2[i]])[0] < 6.635:\n",
    "        a = (series3_1[i] + series3_2[i])/3\n",
    "        b = (series4_1[i] + series4_2[i])/2\n",
    "        chi = chisquare([a, b])[0] #Degree of freedom of 1, and obtain value os chisquare\n",
    "\n",
    "            #If difference is significant, only insert into list for monitoring\n",
    "            #At a 0.5% level\n",
    "        if chi > 7.879:\n",
    "            if a < b:\n",
    "                upreg3_4.append([genes[i], a, b, chi])\n",
    "            else:\n",
    "                downreg3_4.append([genes[i], a, b, chi])\n",
    "        \n",
    "    else:\n",
    "        pass\n",
    "\n",
    "#Check length of lists\n",
    "print(len(upreg3_4))\n",
    "print(len(downreg3_4))\n",
    "print(len(upreg3_4) + len(downreg3_4))\n",
    "\n",
    "output_filename_13 = \"/Users/aldricgoh/COVID HACK/Series3v4_infected_analysis_4 more than 3.csv\"\n",
    "output_filename_14 = \"/Users/aldricgoh/COVID HACK/Series3v4_infected_analysis_4 less than 3.csv\"\n",
    "\n",
    "upreg3_4 = sorted(upreg3_4, key=take_chi,reverse=True)\n",
    "downreg3_4 = sorted(downreg3_4, key=take_chi,reverse=True)\n",
    "\n",
    "write_csv(filename=output_filename_13, header=['gene_symbol', 'Series3_A549_RSV_average', 'Series4_A549_IAV_average', 'Chisquare Values'], data=upreg3_4)\n",
    "write_csv(filename=output_filename_14, header=['gene_symbol', 'Series3_A549_RSV_average', 'Series4_A549_IAV_average', 'Chisquare Values'], data=downreg3_4)"
   ]
  },
  {
   "cell_type": "code",
   "execution_count": null,
   "metadata": {},
   "outputs": [],
   "source": [
    "#Function to plot graphs and compile them in a single pdf\n",
    "def plotgraphs(list, c, title):\n",
    "    genes = []\n",
    "    chi_list = []\n",
    "    for i in range(10):\n",
    "        genes.append(list[i][0])\n",
    "        chi_list.append(list[i][-1])\n",
    "\n",
    "    x_pos = np.arange(len(genes))\n",
    "    plt.bar(x_pos, chi_list, align='center', color= c);\n",
    "    plt.xticks(x_pos, genes, rotation=90)\n",
    "    plt.xlabel('Genes')\n",
    "    plt.ylabel('Chisquare Count')\n",
    "    plt.title(title)\n",
    "    plt.tight_layout()\n",
    "    pdf.savefig()\n",
    "    plt.close()\n",
    "\n",
    "    plt.bar(x_pos, chi_list, align='center', color= c)\n",
    "    plt.semilogy(genes, chi_list)\n",
    "    plt.xlabel('Genes')\n",
    "    plt.ylabel('Chisquare Count')\n",
    "    plt.xticks(x_pos, genes, rotation=90)\n",
    "    plt.title(title + '(Log)')\n",
    "    plt.tight_layout()\n",
    "    pdf.savefig()\n",
    "    plt.close()\n",
    "\n",
    "with PdfPages('/Users/aldricgoh/COVID HACK/Dataset 2 analysis.pdf') as pdf:\n",
    "    plotgraphs(sig_diff_up_1, 'r', 'Series 1: Top 10 non-COVID vs COVID infected\\nlung cells up reg genes')\n",
    "    plotgraphs(sig_diff_down_1, 'r', 'Series 1: Top 10 non-COVID vs COVID infected\\nlung cells down reg genes')\n",
    "    plotgraphs(sig_diff_up_2, 'b', 'Series 2: Top 10 non-COVID vs COVID infected\\nlung cancer cells up reg genes (A549)')\n",
    "    plotgraphs(sig_diff_down_2, 'b', 'Series 2: Top 10 non-COVID vs COVID infected\\nlung cancer cells down reg genes (A549)')\n",
    "    plotgraphs(sig_diff_2_5_mock_A549_up, 'g', 'Series 2 vs series 5 comparison\\non quantity of COVID virus - up reg')\n",
    "    plotgraphs(sig_diff_2_5_mock_A549_down, 'g', 'Series 2 vs series 5 comparison\\non quantity of COVID virus - down reg')\n",
    "    plotgraphs(upreg2_3, 'violet', 'Series 2 vs series 3 comparison\\nbetween COVID and RSV virus - up reg')\n",
    "    plotgraphs(downreg2_3, 'violet', 'Series 2 vs series 3 comparison\\nbetween COVID and RSV virus - down reg')\n",
    "    plotgraphs(upreg2_4, 'orange', 'Series 2 vs series 4 comparison\\nbetween COVID and IAV virus - up reg')\n",
    "    plotgraphs(downreg2_4, 'orange', 'Series 2 vs series 4 comparison\\nbetween COVID and IAV virus - down reg')\n",
    "    plotgraphs(upreg3_4, 'black', 'Series 3 vs series 4 comparison\\nbetween RSV and IAV virus - up reg')\n",
    "    plotgraphs(downreg3_4, 'black', 'Series 3 vs series 4 comparison\\nbetween RSV and IAV virus - down reg')"
   ]
  }
 ],
 "metadata": {
  "language_info": {
   "codemirror_mode": {
    "name": "ipython",
    "version": 3
   },
   "file_extension": ".py",
   "mimetype": "text/x-python",
   "name": "python",
   "nbconvert_exporter": "python",
   "pygments_lexer": "ipython3",
   "version": "3.7.4-final"
  },
  "orig_nbformat": 2,
  "kernelspec": {
   "name": "python3",
   "display_name": "Python 3"
  }
 },
 "nbformat": 4,
 "nbformat_minor": 2
}